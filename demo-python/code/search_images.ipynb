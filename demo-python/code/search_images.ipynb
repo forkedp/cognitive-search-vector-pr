{
 "cells": [
  {
   "attachments": {},
   "cell_type": "markdown",
   "metadata": {},
   "source": [
    "# Vector Search Images\n",
    "\n"
   ]
  },
  {
   "attachments": {},
   "cell_type": "markdown",
   "metadata": {},
   "source": [
    "## Import required libraries and environment variables"
   ]
  },
  {
   "cell_type": "code",
   "execution_count": 6,
   "metadata": {},
   "outputs": [],
   "source": [
    "# Import libraries  \n",
    "import os  \n",
    "import json  \n",
    "import requests  \n",
    "from dotenv import load_dotenv  \n",
    "from azure.core.credentials import AzureKeyCredential  \n",
    "from azure.search.documents import SearchClient  \n",
    "# from azure.search.documents.indexes import SearchIndexClient, SearchIndexerClient  \n",
    "from azure.search.documents.models import Vector  \n",
    "# from azure.search.documents.indexes.models import (  \n",
    "#     SearchIndex,  \n",
    "#     SearchField,\n",
    "#     SearchFieldDataType,  \n",
    "#     SimpleField,\n",
    "#     FieldMapping,\n",
    "#     SearchableField,  \n",
    "#     SearchIndex,  \n",
    "#     VectorSearch,  \n",
    "#     HnswVectorSearchAlgorithmConfiguration,  \n",
    "#     SearchIndexerDataContainer,  \n",
    "#     SearchIndexer,  \n",
    "#     SearchIndexerDataSourceConnection,  \n",
    "#     InputFieldMappingEntry,  \n",
    "#     OutputFieldMappingEntry,  \n",
    "#     SearchIndexerSkillset,\n",
    "#     CorsOptions,\n",
    "#     IndexingParameters,\n",
    "#     IndexerStatus,\n",
    "#     SearchIndexerDataContainer, SearchIndex, SearchIndexer, SimpleField, SearchFieldDataType,\n",
    "#     EntityRecognitionSkill, InputFieldMappingEntry, OutputFieldMappingEntry, SearchIndexerSkillset,\n",
    "#     CorsOptions, IndexingSchedule, SearchableField, IndexingParameters, SearchIndexerDataSourceConnection\n",
    "# )  \n",
    "# from azure.search.documents.indexes.models import WebApiSkill  \n",
    "# from azure.storage.blob import BlobServiceClient  \n",
    "# from azure.search.documents.indexes import SearchIndexerClient  \n",
    "# from azure.search.documents.indexes.models import (  \n",
    "#     SearchIndexerDataContainer,  \n",
    "#     SearchIndexerDataSourceConnection,  \n",
    "# )  \n",
    "from IPython.display import Image, display \n",
    "\n",
    "  \n",
    "load_dotenv()  \n",
    "service_endpoint = os.getenv(\"AZURE_SEARCH_SERVICE_ENDPOINT\")  \n",
    "index_name = os.getenv(\"AZURE_SEARCH_INDEX_NAME\")  \n",
    "key = os.getenv(\"AZURE_SEARCH_ADMIN_KEY\")  \n",
    "cogSvcsEndpoint = os.getenv(\"COGNITIVE_SERVICES_ENDPOINT\")  \n",
    "cogSvcsApiKey = os.getenv(\"COGNITIVE_SERVICES_API_KEY\")  \n",
    "customSkill_endpoint = os.getenv(\"FUNCTION_CUSTOM_SKILL_ENDPOINT\")  \n",
    "blob_connection_string = os.getenv(\"BLOB_CONNECTION_STRING\")  \n",
    "container_name = os.getenv(\"BLOB_CONTAINER_NAME\")\n",
    "credential = AzureKeyCredential(key)"
   ]
  },
  {
   "attachments": {},
   "cell_type": "markdown",
   "metadata": {},
   "source": [
    "## Perform a Vector search by vectorizing your text query\n",
    "\n",
    "Perform a vector search to find the most relevant images based on the text query"
   ]
  },
  {
   "cell_type": "code",
   "execution_count": 9,
   "metadata": {},
   "outputs": [],
   "source": [
    "# generate embeddings for the query\n",
    "def generate_embeddings(text, cogSvcsEndpoint, cogSvcsApiKey):  \n",
    "    url = f\"{cogSvcsEndpoint}/computervision/retrieval:vectorizeText\"  \n",
    "  \n",
    "    params = {  \n",
    "        \"api-version\": \"2023-02-01-preview\"  \n",
    "    }  \n",
    "  \n",
    "    headers = {  \n",
    "        \"Content-Type\": \"application/json\",  \n",
    "        \"Ocp-Apim-Subscription-Key\": cogSvcsApiKey  \n",
    "    }  \n",
    "  \n",
    "    data = {  \n",
    "        \"text\": text  \n",
    "    }  \n",
    "  \n",
    "    response = requests.post(url, params=params, headers=headers, json=data)  \n",
    "  \n",
    "    if response.status_code == 200:  \n",
    "        embeddings = response.json()[\"vector\"]  \n",
    "        return embeddings  \n",
    "    else:  \n",
    "        print(f\"Error: {response.status_code} - {response.text}\")  \n",
    "        return None  \n",
    "\n",
    " "
   ]
  },
  {
   "cell_type": "code",
   "execution_count": 54,
   "metadata": {},
   "outputs": [],
   "source": [
    "\n",
    "\n",
    "def search_image_by_text(query):\n",
    "    # Initialize the SearchClient  \n",
    "    search_client = SearchClient(service_endpoint, index_name, AzureKeyCredential(key))  \n",
    "    vector = Vector(value=generate_embeddings(query, cogSvcsEndpoint, cogSvcsApiKey), k=3, fields=\"imageVector\")  \n",
    "\n",
    "    # Perform vector search  \n",
    "    results = search_client.search(  \n",
    "        search_text=None,  \n",
    "        vectors=[vector],\n",
    "        select=[\"title\", \"imageUrl\"]  \n",
    "    )   \n",
    "    \n",
    "    # Print the search results  \n",
    "    for result in results:  \n",
    "        print(f\"Title: {result['title']}\")  \n",
    "        print(f\"Image URL: {result['imageUrl']}\") \n",
    "        print(f\"Score: {result['@search.score']}\")\n",
    "        display(Image(url=result['imageUrl'], width=200)) \n",
    "        print(\"\\n\") \n"
   ]
  },
  {
   "cell_type": "code",
   "execution_count": 40,
   "metadata": {},
   "outputs": [
    {
     "name": "stdout",
     "output_type": "stream",
     "text": [
      "{'imageUrl': 'https://godzillastorage.blob.core.windows.net/searchvectordemo/Lighthouse.jpg', 'title': 'Lighthouse.jpg', '@search.score': 0.5556341, '@search.reranker_score': None, '@search.highlights': None, '@search.captions': None}\n"
     ]
    }
   ],
   "source": [
    "print(result)"
   ]
  },
  {
   "cell_type": "markdown",
   "metadata": {},
   "source": [
    "search for:\n",
    "\n",
    "* stay worm in winter\n",
    "* camping \n",
    "* hunting\n",
    "* frozen food"
   ]
  },
  {
   "cell_type": "code",
   "execution_count": 96,
   "metadata": {},
   "outputs": [
    {
     "name": "stdout",
     "output_type": "stream",
     "text": [
      "User search query: big hat\n",
      "\n",
      "Title: Picture285.jpg\n",
      "Image URL: https://godzillastorage.blob.core.windows.net/searchvectordemo/Picture285.jpg\n",
      "Score: 0.611216\n"
     ]
    },
    {
     "data": {
      "text/html": [
       "<img src=\"https://godzillastorage.blob.core.windows.net/searchvectordemo/Picture285.jpg\" width=\"200\"/>"
      ],
      "text/plain": [
       "<IPython.core.display.Image object>"
      ]
     },
     "metadata": {},
     "output_type": "display_data"
    },
    {
     "name": "stdout",
     "output_type": "stream",
     "text": [
      "\n",
      "\n",
      "Title: Picture296.jpg\n",
      "Image URL: https://godzillastorage.blob.core.windows.net/searchvectordemo/Picture296.jpg\n",
      "Score: 0.5984226\n"
     ]
    },
    {
     "data": {
      "text/html": [
       "<img src=\"https://godzillastorage.blob.core.windows.net/searchvectordemo/Picture296.jpg\" width=\"200\"/>"
      ],
      "text/plain": [
       "<IPython.core.display.Image object>"
      ]
     },
     "metadata": {},
     "output_type": "display_data"
    },
    {
     "name": "stdout",
     "output_type": "stream",
     "text": [
      "\n",
      "\n",
      "Title: Picture999.jpeg\n",
      "Image URL: https://godzillastorage.blob.core.windows.net/searchvectordemo/Picture999.jpeg\n",
      "Score: 0.59392816\n"
     ]
    },
    {
     "data": {
      "text/html": [
       "<img src=\"https://godzillastorage.blob.core.windows.net/searchvectordemo/Picture999.jpeg\" width=\"200\"/>"
      ],
      "text/plain": [
       "<IPython.core.display.Image object>"
      ]
     },
     "metadata": {},
     "output_type": "display_data"
    },
    {
     "name": "stdout",
     "output_type": "stream",
     "text": [
      "\n",
      "\n"
     ]
    }
   ],
   "source": [
    "# read user input \n",
    "query = input(\"Enter your search query: \")\n",
    "print(f\"User search query: {query}\\n\")\n",
    "search_image_by_text(query)\n"
   ]
  },
  {
   "attachments": {},
   "cell_type": "markdown",
   "metadata": {},
   "source": [
    "# Image to Image search\n",
    "Perform a vector search to find the most relevant images based on the image query"
   ]
  },
  {
   "cell_type": "code",
   "execution_count": 56,
   "metadata": {},
   "outputs": [],
   "source": [
    "def generate_embeddings_for_image(text, cogSvcsEndpoint, cogSvcsApiKey):  \n",
    "    url = f\"{cogSvcsEndpoint}/computervision/retrieval:vectorizeImage\"  \n",
    "  \n",
    "    params = {  \n",
    "        \"api-version\": \"2023-02-01-preview\"  \n",
    "    }  \n",
    "  \n",
    "    headers = {  \n",
    "        \"Content-Type\": \"application/json\",  \n",
    "        \"Ocp-Apim-Subscription-Key\": cogSvcsApiKey  \n",
    "    }  \n",
    "  \n",
    "    data = {  \n",
    "        \"url\": text  \n",
    "    }  \n",
    "  \n",
    "    response = requests.post(url, params=params, headers=headers, json=data)  \n",
    "  \n",
    "    if response.status_code == 200:  \n",
    "        embeddings = response.json()[\"vector\"]  \n",
    "        return embeddings  \n",
    "    else:  \n",
    "        print(f\"Error: {response.status_code} - {response.text}\")  \n",
    "        return None  \n",
    "\n",
    "  \n"
   ]
  },
  {
   "cell_type": "code",
   "execution_count": 80,
   "metadata": {},
   "outputs": [],
   "source": [
    "def search_image_by_image(query):\n",
    "    # Initialize the SearchClient  \n",
    "    search_client = SearchClient(service_endpoint, index_name, AzureKeyCredential(key))  \n",
    "    vector = Vector(value=generate_embeddings_for_image(query, cogSvcsEndpoint, cogSvcsApiKey), k=3, fields=\"imageVector\")  \n",
    "\n",
    "    # Perform vector search  \n",
    "    results = search_client.search(  \n",
    "        search_text=None,  \n",
    "        vectors=[vector],\n",
    "        select=[\"title\", \"imageUrl\"]  \n",
    "    )  \n",
    "    \n",
    "    print(results)\n",
    "    # Print the search results  \n",
    "    for result in results:  \n",
    "        print(f\"Title: {result['title']}\")  \n",
    "        print(f\"Image URL: {result['imageUrl']}\") \n",
    "        print(f\"Score: {result['@search.score']}\")\n",
    "        display(Image(url=result['imageUrl'], width=200)) \n",
    "        print(\"\\n\") \n"
   ]
  },
  {
   "cell_type": "code",
   "execution_count": 78,
   "metadata": {},
   "outputs": [
    {
     "data": {
      "text/html": [
       "<img src=\"https://images.unsplash.com/photo-1593476087123-36d1de271f08?ixlib=rb-4.0.3&ixid=M3wxMjA3fDB8MHxwaG90by1wYWdlfHx8fGVufDB8fHx8fA%3D%3D&auto=format&fit=crop&w=387&q=80\" width=\"200\"/>"
      ],
      "text/plain": [
       "<IPython.core.display.Image object>"
      ]
     },
     "metadata": {},
     "output_type": "display_data"
    }
   ],
   "source": [
    "# Generate text embeddings for the query (for context, this is a photo of a lady in a red hat)\n",
    "queryimg = \"https://images.unsplash.com/photo-1593476087123-36d1de271f08?ixlib=rb-4.0.3&ixid=M3wxMjA3fDB8MHxwaG90by1wYWdlfHx8fGVufDB8fHx8fA%3D%3D&auto=format&fit=crop&w=387&q=80\"  \n",
    "\n",
    "# display image\n",
    "display(Image(url=queryimg, width=200))\n"
   ]
  },
  {
   "cell_type": "code",
   "execution_count": 81,
   "metadata": {},
   "outputs": [
    {
     "name": "stdout",
     "output_type": "stream",
     "text": [
      "<iterator object azure.core.paging.ItemPaged at 0x2311cf7a0e0>\n",
      "Title: Picture999.jpeg\n",
      "Image URL: https://godzillastorage.blob.core.windows.net/searchvectordemo/Picture999.jpeg\n",
      "Score: 0.93665427\n"
     ]
    },
    {
     "data": {
      "text/html": [
       "<img src=\"https://godzillastorage.blob.core.windows.net/searchvectordemo/Picture999.jpeg\" width=\"200\"/>"
      ],
      "text/plain": [
       "<IPython.core.display.Image object>"
      ]
     },
     "metadata": {},
     "output_type": "display_data"
    },
    {
     "name": "stdout",
     "output_type": "stream",
     "text": [
      "\n",
      "\n",
      "Title: Picture290.jpg\n",
      "Image URL: https://godzillastorage.blob.core.windows.net/searchvectordemo/Picture290.jpg\n",
      "Score: 0.71684456\n"
     ]
    },
    {
     "data": {
      "text/html": [
       "<img src=\"https://godzillastorage.blob.core.windows.net/searchvectordemo/Picture290.jpg\" width=\"200\"/>"
      ],
      "text/plain": [
       "<IPython.core.display.Image object>"
      ]
     },
     "metadata": {},
     "output_type": "display_data"
    },
    {
     "name": "stdout",
     "output_type": "stream",
     "text": [
      "\n",
      "\n",
      "Title: Picture285.jpg\n",
      "Image URL: https://godzillastorage.blob.core.windows.net/searchvectordemo/Picture285.jpg\n",
      "Score: 0.7049761\n"
     ]
    },
    {
     "data": {
      "text/html": [
       "<img src=\"https://godzillastorage.blob.core.windows.net/searchvectordemo/Picture285.jpg\" width=\"200\"/>"
      ],
      "text/plain": [
       "<IPython.core.display.Image object>"
      ]
     },
     "metadata": {},
     "output_type": "display_data"
    },
    {
     "name": "stdout",
     "output_type": "stream",
     "text": [
      "\n",
      "\n"
     ]
    }
   ],
   "source": [
    "search_image_by_image(queryimg)"
   ]
  },
  {
   "cell_type": "code",
   "execution_count": 88,
   "metadata": {},
   "outputs": [
    {
     "name": "stdout",
     "output_type": "stream",
     "text": [
      "Search by image: \n"
     ]
    },
    {
     "data": {
      "text/html": [
       "<img src=\"https://img2.cgtrader.com/items/116754/1ecda16f39/lego-man-3d-model-max-obj.jpg\" width=\"200\"/>"
      ],
      "text/plain": [
       "<IPython.core.display.Image object>"
      ]
     },
     "metadata": {},
     "output_type": "display_data"
    },
    {
     "name": "stdout",
     "output_type": "stream",
     "text": [
      "Search Results:\n",
      "<iterator object azure.core.paging.ItemPaged at 0x2311d278d90>\n",
      "Title: lego-policeman02.JPG\n",
      "Image URL: https://godzillastorage.blob.core.windows.net/searchvectordemo/lego-policeman02.JPG\n",
      "Score: 0.71520734\n"
     ]
    },
    {
     "data": {
      "text/html": [
       "<img src=\"https://godzillastorage.blob.core.windows.net/searchvectordemo/lego-policeman02.JPG\" width=\"200\"/>"
      ],
      "text/plain": [
       "<IPython.core.display.Image object>"
      ]
     },
     "metadata": {},
     "output_type": "display_data"
    },
    {
     "name": "stdout",
     "output_type": "stream",
     "text": [
      "\n",
      "\n",
      "Title: Picture285.jpg\n",
      "Image URL: https://godzillastorage.blob.core.windows.net/searchvectordemo/Picture285.jpg\n",
      "Score: 0.63039386\n"
     ]
    },
    {
     "data": {
      "text/html": [
       "<img src=\"https://godzillastorage.blob.core.windows.net/searchvectordemo/Picture285.jpg\" width=\"200\"/>"
      ],
      "text/plain": [
       "<IPython.core.display.Image object>"
      ]
     },
     "metadata": {},
     "output_type": "display_data"
    },
    {
     "name": "stdout",
     "output_type": "stream",
     "text": [
      "\n",
      "\n",
      "Title: Picture621.jpg\n",
      "Image URL: https://godzillastorage.blob.core.windows.net/searchvectordemo/Picture621.jpg\n",
      "Score: 0.6265049\n"
     ]
    },
    {
     "data": {
      "text/html": [
       "<img src=\"https://godzillastorage.blob.core.windows.net/searchvectordemo/Picture621.jpg\" width=\"200\"/>"
      ],
      "text/plain": [
       "<IPython.core.display.Image object>"
      ]
     },
     "metadata": {},
     "output_type": "display_data"
    },
    {
     "name": "stdout",
     "output_type": "stream",
     "text": [
      "\n",
      "\n",
      "Search by image: \n"
     ]
    },
    {
     "data": {
      "text/html": [
       "<img src=\"https://www.team-bhp.com/forum/attachments/indian-car-scene/344291d1273211240-indian-police-cars-gcp_patrol_car.jpg\" width=\"200\"/>"
      ],
      "text/plain": [
       "<IPython.core.display.Image object>"
      ]
     },
     "metadata": {},
     "output_type": "display_data"
    },
    {
     "name": "stdout",
     "output_type": "stream",
     "text": [
      "Search Results:\n",
      "<iterator object azure.core.paging.ItemPaged at 0x2311d311d80>\n",
      "Title: DSC_9556c.jpg\n",
      "Image URL: https://godzillastorage.blob.core.windows.net/searchvectordemo/DSC_9556c.jpg\n",
      "Score: 0.80454797\n"
     ]
    },
    {
     "data": {
      "text/html": [
       "<img src=\"https://godzillastorage.blob.core.windows.net/searchvectordemo/DSC_9556c.jpg\" width=\"200\"/>"
      ],
      "text/plain": [
       "<IPython.core.display.Image object>"
      ]
     },
     "metadata": {},
     "output_type": "display_data"
    },
    {
     "name": "stdout",
     "output_type": "stream",
     "text": [
      "\n",
      "\n",
      "Title: fastest-police-vehicles-2016.jpg\n",
      "Image URL: https://godzillastorage.blob.core.windows.net/searchvectordemo/fastest-police-vehicles-2016.jpg\n",
      "Score: 0.76730937\n"
     ]
    },
    {
     "data": {
      "text/html": [
       "<img src=\"https://godzillastorage.blob.core.windows.net/searchvectordemo/fastest-police-vehicles-2016.jpg\" width=\"200\"/>"
      ],
      "text/plain": [
       "<IPython.core.display.Image object>"
      ]
     },
     "metadata": {},
     "output_type": "display_data"
    },
    {
     "name": "stdout",
     "output_type": "stream",
     "text": [
      "\n",
      "\n",
      "Title: R.jpeg\n",
      "Image URL: https://godzillastorage.blob.core.windows.net/searchvectordemo/R.jpeg\n",
      "Score: 0.7188035\n"
     ]
    },
    {
     "data": {
      "text/html": [
       "<img src=\"https://godzillastorage.blob.core.windows.net/searchvectordemo/R.jpeg\" width=\"200\"/>"
      ],
      "text/plain": [
       "<IPython.core.display.Image object>"
      ]
     },
     "metadata": {},
     "output_type": "display_data"
    },
    {
     "name": "stdout",
     "output_type": "stream",
     "text": [
      "\n",
      "\n",
      "Search by image: \n"
     ]
    },
    {
     "data": {
      "text/html": [
       "<img src=\"https://godzillastorage.blob.core.windows.net/searchvectordemo/lego-policeman02.JPG\" width=\"200\"/>"
      ],
      "text/plain": [
       "<IPython.core.display.Image object>"
      ]
     },
     "metadata": {},
     "output_type": "display_data"
    },
    {
     "name": "stdout",
     "output_type": "stream",
     "text": [
      "Search Results:\n",
      "<iterator object azure.core.paging.ItemPaged at 0x2311ce1fc10>\n",
      "Title: lego-policeman02.JPG\n",
      "Image URL: https://godzillastorage.blob.core.windows.net/searchvectordemo/lego-policeman02.JPG\n",
      "Score: 0.99999857\n"
     ]
    },
    {
     "data": {
      "text/html": [
       "<img src=\"https://godzillastorage.blob.core.windows.net/searchvectordemo/lego-policeman02.JPG\" width=\"200\"/>"
      ],
      "text/plain": [
       "<IPython.core.display.Image object>"
      ]
     },
     "metadata": {},
     "output_type": "display_data"
    },
    {
     "name": "stdout",
     "output_type": "stream",
     "text": [
      "\n",
      "\n",
      "Title: R.jpeg\n",
      "Image URL: https://godzillastorage.blob.core.windows.net/searchvectordemo/R.jpeg\n",
      "Score: 0.67286956\n"
     ]
    },
    {
     "data": {
      "text/html": [
       "<img src=\"https://godzillastorage.blob.core.windows.net/searchvectordemo/R.jpeg\" width=\"200\"/>"
      ],
      "text/plain": [
       "<IPython.core.display.Image object>"
      ]
     },
     "metadata": {},
     "output_type": "display_data"
    },
    {
     "name": "stdout",
     "output_type": "stream",
     "text": [
      "\n",
      "\n",
      "Title: Dubai Police 1.jpg\n",
      "Image URL: https://godzillastorage.blob.core.windows.net/searchvectordemo/Dubai%20Police%201.jpg\n",
      "Score: 0.65718144\n"
     ]
    },
    {
     "data": {
      "text/html": [
       "<img src=\"https://godzillastorage.blob.core.windows.net/searchvectordemo/Dubai%20Police%201.jpg\" width=\"200\"/>"
      ],
      "text/plain": [
       "<IPython.core.display.Image object>"
      ]
     },
     "metadata": {},
     "output_type": "display_data"
    },
    {
     "name": "stdout",
     "output_type": "stream",
     "text": [
      "\n",
      "\n"
     ]
    }
   ],
   "source": [
    "queryimgs = [\n",
    "    \"https://img2.cgtrader.com/items/116754/1ecda16f39/lego-man-3d-model-max-obj.jpg\",\n",
    "    \"https://www.team-bhp.com/forum/attachments/indian-car-scene/344291d1273211240-indian-police-cars-gcp_patrol_car.jpg\",\n",
    "    \"https://godzillastorage.blob.core.windows.net/searchvectordemo/lego-policeman02.JPG\", \n",
    "    # \"https://wallpapercave.com/wp/e3J9loC.jpg\", \n",
    "    # \"https://i.pinimg.com/originals/ac/31/ea/ac31ea0cccac2424a6f03e8b9fcca71d.jpg\", \n",
    "    # \"https://img.washingtonpost.com/rf/image_1024w/2010-2019/WashingtonPost/2014/07/02/Others/Images/2014-07-02/emperor%20penguins%200011404339070.jpg\", \n",
    "    # \"http://3.bp.blogspot.com/-FrLvPDFZYwQ/TzoV4hQV8qI/AAAAAAAAGmQ/k0431I5GQNU/s1600/1.jpg\"\n",
    "]\n",
    "\n",
    "\n",
    "for queryimg in queryimgs:\n",
    "    # display image\n",
    "    print(\"Search by image: \")\n",
    "    display(Image(url=queryimg, width=200))\n",
    "    print(\"Search Results:\")\n",
    "    search_image_by_image(queryimg)\n"
   ]
  },
  {
   "cell_type": "code",
   "execution_count": null,
   "metadata": {},
   "outputs": [],
   "source": []
  }
 ],
 "metadata": {
  "kernelspec": {
   "display_name": "Python 3",
   "language": "python",
   "name": "python3"
  },
  "language_info": {
   "codemirror_mode": {
    "name": "ipython",
    "version": 3
   },
   "file_extension": ".py",
   "mimetype": "text/x-python",
   "name": "python",
   "nbconvert_exporter": "python",
   "pygments_lexer": "ipython3",
   "version": "3.10.0"
  },
  "orig_nbformat": 4
 },
 "nbformat": 4,
 "nbformat_minor": 2
}
